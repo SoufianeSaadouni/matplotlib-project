{
 "cells": [
  {
   "attachments": {},
   "cell_type": "markdown",
   "metadata": {},
   "source": [
    "# Exemples basiques de tracé avec Matplotlib\n",
    "\n",
    "Matplotlib fournit de nombreuses options de traçage pour visualiser les données. Vous pouvez également personnaliser vos graphiques en offrant une variété d'options de thème, de couleur et de palette que les utilisateurs peuvent utiliser pour interagir avec leurs graphiques.\n",
    "\n",
    "## Premier tracé avec Matplotlib\n",
    "\n",
    "Maintenant, nous allons commencer à produire des tracés. Voici le premier exemple :\n"
   ]
  },
  {
   "cell_type": "code",
   "execution_count": null,
   "metadata": {},
   "outputs": [],
   "source": [
    "import matplotlib.pyplot as plt\n",
    "\n",
    "plt.plot([1, 3, 2, 4], 'b-')\n",
    "\n",
    "plt.show( )"
   ]
  },
  {
   "attachments": {},
   "cell_type": "markdown",
   "metadata": {},
   "source": [
    "`plt.plot([1, 3, 2, 4], 'b-')`\n",
    "\n",
    "Cette ligne de code est la commande de traçage proprement dite. Seule une liste de valeurs a été tracée qui représente les coordonnées verticales des points à tracer. Matplotlib utilisera une liste de valeurs horizontales implicites, de 0 (la première valeur) à N-1 (où N est le nombre d'éléments dans la liste).\n",
    "\n",
    "**Spécifier les deux listes**\n",
    "\n",
    "De plus, nous pouvons spécifier explicitement les deux listes comme suit :\n",
    "\n",
    "`x3 = range(6)`\n",
    "\n",
    "`plt.plot(x3, [xi**2 for xi in x3])`\n",
    "\n",
    "`plt.show()`"
   ]
  },
  {
   "cell_type": "code",
   "execution_count": null,
   "metadata": {},
   "outputs": [],
   "source": [
    "import matplotlib.pyplot as plt\n",
    "import numpy as np\n",
    "\n",
    "x3 = np.arange(0.0, 6.0, 0.01) \n",
    "\n",
    "plt.plot(x3, [xi**2 for xi in x3], 'b-') \n",
    "\n",
    "plt.show()"
   ]
  },
  {
   "attachments": {},
   "cell_type": "markdown",
   "metadata": {},
   "source": [
    "## Tracés multilignes\n",
    "\n",
    "Les Tracés multilignes signifient tracer plus d'une parcelle sur la même figure. Nous pouvons tracer plus d'un graphique sur la même figure.\n",
    "Cela peut être réalisé en traçant toutes les lignes avant d'appeler show(). Cela peut être fait comme suit :"
   ]
  },
  {
   "cell_type": "code",
   "execution_count": null,
   "metadata": {},
   "outputs": [],
   "source": [
    "import matplotlib.pyplot as plt\n",
    "\n",
    "x4 = range(1, 5)\n",
    "\n",
    "plt.plot(x4, [xi*1.5 for xi in x4])\n",
    "\n",
    "plt.plot(x4, [xi*3 for xi in x4])\n",
    "\n",
    "plt.plot(x4, [xi/3.0 for xi in x4])\n",
    "\n",
    "plt.show()"
   ]
  },
  {
   "attachments": {},
   "cell_type": "markdown",
   "metadata": {},
   "source": [
    "## Line plot\n",
    "\n",
    "Un tracé linéaire visualise les informations sous la forme d'une série de points de données appelés marqueurs reliés par des segments de ligne droite."
   ]
  },
  {
   "cell_type": "code",
   "execution_count": null,
   "metadata": {},
   "outputs": [],
   "source": [
    "import matplotlib.pyplot as plt\n",
    "import numpy as np \n",
    "\n",
    "# Create a figure\n",
    "figure1 = plt.figure()\n",
    "# Create the axe\n",
    "axe1 = plt.axes()\n",
    "\n",
    "x1 = np.linspace(0,10,1000)\n",
    "\n",
    "axe1.plot(x1,np.sin(x1),'b-')\n"
   ]
  },
  {
   "attachments": {},
   "cell_type": "markdown",
   "metadata": {},
   "source": [
    "## Scatter Plot\n",
    "\n",
    "Un autre type de graphique couramment utilisé est le nuage de points. Ici, les points sont représentés individuellement par un point ou un cercle.\n",
    "\n",
    "**Scatter Plot avec plt.plot()**\n",
    "\n",
    "Nous avons utilisé plt.plot/ax.plot pour produire des tracés linéaires. Nous pouvons utiliser les mêmes fonctions pour produire les nuages de points comme suit :"
   ]
  },
  {
   "cell_type": "code",
   "execution_count": null,
   "metadata": {},
   "outputs": [],
   "source": [
    "import matplotlib.pyplot as plt\n",
    "import numpy as np \n",
    "\n",
    "x7 = np.linspace(0, 10, 30)\n",
    "\n",
    "y7 = np.sin(x7)\n",
    "\n",
    "plt.plot(x7, y7, 'o', color = 'black');"
   ]
  },
  {
   "attachments": {},
   "cell_type": "markdown",
   "metadata": {},
   "source": [
    "## Histogram\n",
    "\n",
    "Les histogrammes sont un affichage graphique des fréquences. Ils sont représentés sous forme de barres. Ils montrent quelle partie de l'ensemble de données appartient à chaque catégorie, généralement spécifiée sous forme d'intervalles sans chevauchement. Ces catégories sont appelées bacs.\n",
    "\n",
    "La fonction plt.hist() peut être utilisée pour tracer un histogramme simple comme suit :"
   ]
  },
  {
   "cell_type": "code",
   "execution_count": null,
   "metadata": {},
   "outputs": [],
   "source": [
    "import matplotlib.pyplot as plt\n",
    "import numpy as np \n",
    "\n",
    "d1 = np.random.randn(1000)\n",
    "\n",
    "plt.hist(d1)"
   ]
  },
  {
   "attachments": {},
   "cell_type": "markdown",
   "metadata": {},
   "source": [
    "## Bar chart\n",
    "\n",
    "Les graphiques à barres affichent des barres rectangulaires sous forme verticale ou horizontale. Leur longueur est proportionnelle aux valeurs qu'ils représentent. Ils sont utilisés pour comparer deux ou plusieurs valeurs.\n",
    "\n",
    "Nous pouvons tracer un graphique à barres en utilisant la fonction plt.bar(). Nous pouvons tracer un graphique à barres comme suit :"
   ]
  },
  {
   "cell_type": "code",
   "execution_count": null,
   "metadata": {},
   "outputs": [],
   "source": [
    "import matplotlib.pyplot as plt\n",
    "\n",
    "d1 = [5.,10.,40.,30]\n",
    "\n",
    "plt.bar(range(len(d1)),d1)\n",
    "\n",
    "plt.show()"
   ]
  },
  {
   "attachments": {},
   "cell_type": "markdown",
   "metadata": {},
   "source": [
    "## Horizontal Bar Chart\n",
    "\n",
    "Nous pouvons produire un graphique à barres horizontales en utilisant la fonction plt.barh(). C'est l'équivalent strict de la fonction plt.bar()."
   ]
  },
  {
   "cell_type": "code",
   "execution_count": null,
   "metadata": {},
   "outputs": [],
   "source": [
    "import matplotlib.pyplot as plt\n",
    "\n",
    "data2 = [5. , 25. , 50. , 20.]\n",
    "\n",
    "plt.barh(range(len(data2)), data2)\n",
    "\n",
    "plt.show() "
   ]
  },
  {
   "attachments": {},
   "cell_type": "markdown",
   "metadata": {},
   "source": [
    "## Pie chart\n",
    "\n",
    "Pie charts sont des représentations circulaires, divisées en secteurs. Les secteurs sont également appelés coins. La longueur d'arc de chaque secteur est proportionnelle à la quantité que nous décrivons. C'est un moyen efficace de représenter des informations lorsque nous nous intéressons principalement à comparer le coin à l'ensemble du gâteau, plutôt que les coins les uns contre les autres.\n",
    "\n",
    "Matplotlib fournit la fonction pie() pour tracer des camemberts à partir d'un tableau X. Les coins sont créés proportionnellement, de sorte que chaque valeur x du tableau X génère un coin proportionnel à x/sum(X).\n"
   ]
  },
  {
   "cell_type": "code",
   "execution_count": null,
   "metadata": {},
   "outputs": [],
   "source": [
    "import matplotlib.pyplot as plt\n",
    "\n",
    "x1 = [20, 35, 30, 15]\n",
    "fruit_labels = [\"Banana\", \"Apple\", \"Strawberry\", \"Blueberry\"]\n",
    "\n",
    "plt.figure(figsize=(8, 8))\n",
    "plt.pie(x1, labels=fruit_labels)\n",
    "plt.legend(fruit_labels)\n",
    "\n",
    "plt.show()"
   ]
  },
  {
   "attachments": {},
   "cell_type": "markdown",
   "metadata": {},
   "source": [
    "## Ajouter des étiquettes\n",
    "\n",
    "Une autre information importante à ajouter à un tracé est les étiquettes des axes, car elles spécifient le type de données que nous traçons."
   ]
  },
  {
   "cell_type": "code",
   "execution_count": null,
   "metadata": {},
   "outputs": [],
   "source": [
    "import matplotlib.pyplot as plt\n",
    "\n",
    "plt.plot([1, 3, 2, 4])\n",
    "\n",
    "plt.xlabel('This is the X axis')\n",
    "\n",
    "plt.ylabel('This is the Y axis')\n",
    "\n",
    "plt.show()"
   ]
  },
  {
   "attachments": {},
   "cell_type": "markdown",
   "metadata": {},
   "source": [
    "## Ajouter un titre\n",
    "\n",
    "Matplotlib fournit une simple fonction title() pour ajouter un titre à une image."
   ]
  },
  {
   "cell_type": "code",
   "execution_count": null,
   "metadata": {},
   "outputs": [],
   "source": [
    "import matplotlib.pyplot as plt\n",
    "\n",
    "plt.plot([1, 3, 2, 4])\n",
    "\n",
    "plt.title('First Plot')\n",
    "\n",
    "plt.show()"
   ]
  },
  {
   "attachments": {},
   "cell_type": "markdown",
   "metadata": {},
   "source": [
    "## Ajout d'une légende\n",
    "\n",
    "Les légendes sont utilisées pour décrire la signification de chaque ligne ou courbe dans le tracé.\n",
    "\n",
    "Les légendes des courbes d'une figure peuvent être ajoutées de deux manières. Une méthode consiste à utiliser la méthode legend de l'objet axis et à passer une liste/tuple de textes de légende comme suit :"
   ]
  },
  {
   "cell_type": "code",
   "execution_count": null,
   "metadata": {},
   "outputs": [],
   "source": [
    "import matplotlib.pyplot as plt\n",
    "import numpy as np\n",
    "\n",
    "x15 = np.arange(1, 5)\n",
    "\n",
    "fig, ax = plt.subplots()\n",
    "\n",
    "ax.plot(x15, x15*1.5)\n",
    "ax.plot(x15, x15*3.0)\n",
    "ax.plot(x15, x15/3.0)\n",
    "\n",
    "ax.legend(['Normal','Fast','Slow']);"
   ]
  }
 ],
 "metadata": {
  "kernelspec": {
   "display_name": "Python 3",
   "language": "python",
   "name": "python3"
  },
  "language_info": {
   "codemirror_mode": {
    "name": "ipython",
    "version": 3
   },
   "file_extension": ".py",
   "mimetype": "text/x-python",
   "name": "python",
   "nbconvert_exporter": "python",
   "pygments_lexer": "ipython3",
   "version": "3.11.1"
  },
  "orig_nbformat": 4,
  "vscode": {
   "interpreter": {
    "hash": "ead1b95f633dc9c51826328e1846203f51a198c6fb5f2884a80417ba131d4e82"
   }
  }
 },
 "nbformat": 4,
 "nbformat_minor": 2
}
