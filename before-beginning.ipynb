{
 "cells": [
  {
   "attachments": {},
   "cell_type": "markdown",
   "metadata": {},
   "source": [
    "# Informations préliminaires\n",
    "\n",
    "## Affichage des tracés dans Matplotlib\n",
    "\n",
    "L'affichage du tracé Matplotlib est basé sur le contexte. La meilleure utilisation de Matplotlib diffère selon la façon dont nous l'utilisons. Il existe trois contextes applicables pour visualiser les tracés. Les trois contextes applicables utilisent le traçage à partir d'un script, le traçage à partir d'un shell IPython ou le traçage à partir d'un bloc-notes Jupyter.\n",
    "\n",
    "### Tracer à partir d'un script\n",
    "\n",
    "Si nous utilisons Matplotlib à partir d'un script, la commande plt.show() est d'une grande utilité. Il démarre une boucle d'événements, recherche tous les objets de figure actuellement actifs et ouvre une ou plusieurs fenêtres interactives qui affichent la ou les figures.\n",
    "\n",
    "La commande plt.show() ne doit être utilisée qu'une seule fois par session Python. Il ne doit être utilisé qu'à la fin du script. Plusieurs commandes plt.show() peuvent conduire à des résultats imprévisibles et doivent généralement être évitées.\n",
    "\n",
    "### Tracer à partir d'un shell IPython\n",
    "\n",
    "Nous pouvons utiliser Matplotlib de manière interactive dans un shell IPython. IPython fonctionne bien avec Matplotlib si nous spécifions le mode Matplotlib. Pour activer ce mode, nous pouvons utiliser la commande %matplotlib après avoir démarré iPython. Toute commande plt plot entraînera l'ouverture d'une fenêtre de figure et d'autres commandes peuvent être exécutées pour mettre à jour le tracé.\n",
    "\n",
    "### Tracer à partir de Jupyter Notebook\n",
    "\n",
    "Le Jupyter Notebook (anciennement connu sous le nom de IPython Notebook) est un outil d'analyse et de visualisation de données qui fournit plusieurs outils sous un même toit. Il fournit l'exécution de code, des tracés graphiques, un affichage de texte riche et multimédia, des formules mathématiques et bien d'autres fonctionnalités dans un seul document exécutable.\n",
    "\n",
    "Le traçage interactif dans un Jupyter Notebook peut être effectué avec la commande %matplotlib. Il existe deux options possibles pour travailler avec des graphiques dans Jupyter Notebook. Ce sont les suivants :\n",
    "\n",
    "• %matplotlib notebook – Cette commande produira des tracés interactifs intégrés dans le notebook.\n",
    "\n",
    "• %matplotlib inline – Il produira des images statiques du tracé intégré dans le cahier.\n",
    "\n",
    "Après cette commande (elle ne doit être effectuée qu'une seule fois par noyau et par session), toute cellule du bloc-notes qui crée un tracé intégrera une image PNG du graphique.\n",
    "\n",
    "## Hiérarchie des objets Matplotlib\n",
    "\n",
    "Dans Matplotlib, un tracé est une hiérarchie d'objets Python imbriqués. Ahierarch signifie qu'il existe une structure arborescente d'objets Matplotlib sous-jacente à chaque tracé.\n",
    "\n",
    "Un objet Figure est le conteneur le plus externe pour un tracé Matplotlib. L'objet Figure contient plusieurs objets Axes. Ainsi, la figure est le graphique final qui peut contenir un ou plusieurs axes. Les Axes représentent une parcelle individuelle.\n",
    "\n",
    "Ainsi, nous pouvons considérer l'objet Figure comme un conteneur en forme de boîte contenant un ou plusieurs Axes. L'objet Axes contient des objets plus petits tels que des graduations, des lignes, des légendes, des titres et des zones de texte.\n",
    "\n",
    "## API Matplotlib\n",
    "\n",
    "Matplotlib a deux API avec lesquelles travailler. Une interface basée sur l'état de style MATLAB et une interface orientée objet (OO) plus puissante. L'ancienne interface basée sur l'état de style MATLAB est appelée interface pyplot et la seconde est appelée interface orientée objet.\n",
    "\n",
    "Il existe une troisième interface également appelée interface pyLab. Il fusionne pyplot (pour le traçage) et NumPy (pour les fonctions mathématiques) dans un environnement plus proche de MATLAB. Ceci est considéré comme une mauvaise pratique de nos jours. Ainsi, l'utilisation de pyLab est fortement déconseillée et par conséquent, je n'en discuterai pas plus avant.\n",
    "\n",
    "\n",
    "## API Pyplot\n",
    "\n",
    "`matplotlib.pyplot` est une collection de fonctions qui font fonctionner matplotlib comme MATLAB. Chaque fonction pyplot apporte des modifications à une figure : par exemple, crée une figure, crée une zone de traçage dans une figure, trace certaines lignes dans une zone de traçage, décore le tracé avec des étiquettes, etc.\n",
    "\n",
    "Dans `matplotlib.pyplot`, divers états sont conservés à travers les appels de fonction, de sorte qu'il garde une trace de choses comme la figure actuelle et la zone de traçage, et les fonctions de traçage sont dirigées vers les axes actuels (veuillez noter que les \"axes\" ici et dans la plupart des endroits dans la documentation fait référence à la partie des axes d'une figure et non au terme mathématique strict pour plus d'un axe).\n",
    "\n",
    "Le code suivant produit des courbes sinus et cosinus à l'aide de l'API Pyplot:"
   ]
  },
  {
   "cell_type": "code",
   "execution_count": null,
   "metadata": {},
   "outputs": [],
   "source": [
    "import matplotlib.pyplot as plt\n",
    "import numpy as np\n",
    "\n",
    "\n",
    "x1 = np.linspace(0, 10, 100)\n",
    "\n",
    "# create a plot figure\n",
    "plt.figure()\n",
    "\n",
    "\n",
    "# create the first of two panels and set current axis\n",
    "plt.subplot(2, 1, 1)   # (rows, columns, panel number)\n",
    "plt.plot(x1, np.sin(x1))\n",
    "\n",
    "\n",
    "# create the second of two panels and set current axis\n",
    "plt.subplot(2, 1, 2)   # (rows, columns, panel number)\n",
    "plt.plot(x1, np.cos(x1));\n"
   ]
  },
  {
   "attachments": {},
   "cell_type": "markdown",
   "metadata": {},
   "source": [
    "### Visualisation avec Pyplot\n",
    "\n",
    "Générer une visualisation avec Pyplot est très simple. Les valeurs de l'axe des x vont de 0 à 3 et l'axe des y de 1 à 4. Si nous fournissons une seule liste ou un seul tableau à la commande plot(), matplotlib suppose qu'il s'agit d'une séquence de valeurs y et génère automatiquement les valeurs x. Étant donné que les plages python commencent par 0, le vecteur x par défaut a la même longueur que y mais commence par 0. Par conséquent, les données x sont [0,1,2,3] et les données y sont [1,2,3,4]."
   ]
  },
  {
   "cell_type": "code",
   "execution_count": null,
   "metadata": {},
   "outputs": [],
   "source": [
    "import matplotlib.pyplot as plt\n",
    "\n",
    "\n",
    "plt.plot([1, 2, 3, 4])\n",
    "plt.ylabel('Numbers')\n",
    "plt.show()"
   ]
  },
  {
   "attachments": {},
   "cell_type": "markdown",
   "metadata": {},
   "source": [
    "### plot() - Une commande polyvalente\n",
    "\n",
    "plot() est une commande polyvalente. Il faudra un nombre arbitraire d'arguments. Par exemple, pour tracer x par rapport à y, nous pouvons émettre la commande suivante:"
   ]
  },
  {
   "cell_type": "code",
   "execution_count": null,
   "metadata": {},
   "outputs": [],
   "source": [
    "import matplotlib.pyplot as plt\n",
    "\n",
    "plt.plot([1, 2, 3, 4], [1, 4, 9, 16])\n",
    "plt.show()"
   ]
  },
  {
   "attachments": {},
   "cell_type": "markdown",
   "metadata": {},
   "source": [
    "### Interface de machine d'état\n",
    "\n",
    "Pyplot fournit l'interface de machine d'état à la bibliothèque de traçage orientée objet sous-jacente. La machine à états crée implicitement et automatiquement des figures et des axes pour obtenir le tracé souhaité. Par example:"
   ]
  },
  {
   "cell_type": "code",
   "execution_count": null,
   "metadata": {},
   "outputs": [],
   "source": [
    "import matplotlib.pyplot as plt\n",
    "\n",
    "x = np.linspace(0, 2, 100)\n",
    "\n",
    "plt.plot(x, x, label='linear')\n",
    "plt.plot(x, x**2, label='quadratic')\n",
    "plt.plot(x, x**3, label='cubic')\n",
    "\n",
    "plt.xlabel('x label')\n",
    "plt.ylabel('y label')\n",
    "\n",
    "plt.title(\"Simple Plot\")\n",
    "\n",
    "plt.legend()\n",
    "\n",
    "plt.show()"
   ]
  },
  {
   "attachments": {},
   "cell_type": "markdown",
   "metadata": {},
   "source": [
    "### Formatage du style de tracé\n",
    "\n",
    "Pour chaque paire d'arguments x, y, il existe un troisième argument facultatif qui est la chaîne de format qui indique la couleur et le type de ligne du tracé. Les lettres et symboles de la chaîne de format proviennent de MATLAB. Nous pouvons concaténer une chaîne de couleur avec une chaîne de style de ligne. La chaîne de format par défaut est 'b-', qui est une ligne bleue continue. Par exemple, pour tracer la ligne ci-dessus avec des cercles rouges, nous lancerions la commande suivante :"
   ]
  },
  {
   "cell_type": "code",
   "execution_count": null,
   "metadata": {},
   "outputs": [],
   "source": [
    "import matplotlib.pyplot as plt\n",
    "\n",
    "plt.plot([1, 2, 3, 4], [1, 4, 9, 16], 'ro')\n",
    "plt.axis([0, 6, 0, 20])\n",
    "plt.show()"
   ]
  },
  {
   "attachments": {},
   "cell_type": "markdown",
   "metadata": {},
   "source": [
    "La commande axis() dans l'exemple ci-dessus prend une liste de [xmin, xmax, ymin, ymax] et spécifie la fenêtre d'affichage des axes.\n",
    "\n",
    "## API orientée objet\n",
    "\n",
    "L'API orientée objet est disponible pour les situations de traçage plus complexes. Cela nous permet d'exercer plus de contrôle sur la figure. Dans l'API Pyplot, nous dépendons d'une notion de figure ou d'axes \"actifs\". Mais, dans l'API orientée objet, les fonctions de traçage sont des méthodes d'objets Figure et Axes explicites.\n",
    "\n",
    "La figure est le conteneur de niveau supérieur pour tous les éléments de tracé. Nous pouvons considérer l'objet Figure comme un conteneur en forme de boîte contenant un ou plusieurs Axes.\n",
    "\n",
    "Les Axes représentent une parcelle individuelle. L'objet Axes contient des objets plus petits tels que des axes, des graduations, des lignes, des légendes, des titres et des zones de texte.\n",
    "\n",
    "Le code suivant produit des courbes sinus et cosinus à l'aide de l'API orientée objet."
   ]
  },
  {
   "cell_type": "code",
   "execution_count": null,
   "metadata": {},
   "outputs": [],
   "source": [
    "import matplotlib.pyplot as plt\n",
    "\n",
    "# First create a grid of plots\n",
    "# ax will be an array of two Axes objects\n",
    "fig, ax = plt.subplots(2)\n",
    "\n",
    "\n",
    "# Call plot() method on the appropriate object\n",
    "ax[0].plot(x1, np.sin(x1), 'b-')\n",
    "ax[1].plot(x1, np.cos(x1), 'b-');"
   ]
  },
  {
   "attachments": {},
   "cell_type": "markdown",
   "metadata": {},
   "source": [
    "### Objets et référence\n",
    "\n",
    "L'idée principale avec l'API orientée objet est d'avoir des objets sur lesquels on peut appliquer des fonctions et des actions. Le véritable avantage de cette approche devient apparent lorsque plus d'une figure est créée ou lorsqu'une figure contient plus d'une sous-parcelle.\n",
    "\n",
    "Nous créons une référence à l'instance figure dans la variable fig. Ensuite, nous créons une nouvelle instance d'axe axes en utilisant la méthode add_axes dans l'instance de classe Figure fig comme suit :"
   ]
  },
  {
   "cell_type": "code",
   "execution_count": null,
   "metadata": {},
   "outputs": [],
   "source": [
    "import matplotlib.pyplot as plt\n",
    "\n",
    "fig = plt.figure()\n",
    "\n",
    "x2 = np.linspace(0, 5, 10)\n",
    "y2 = x2 ** 2\n",
    "\n",
    "axes = fig.add_axes([0.1, 0.1, 0.8, 0.8])\n",
    "\n",
    "axes.plot(x2, y2, 'r')\n",
    "\n",
    "axes.set_xlabel('x2')\n",
    "axes.set_ylabel('y2')\n",
    "axes.set_title('title');"
   ]
  },
  {
   "attachments": {},
   "cell_type": "markdown",
   "metadata": {},
   "source": [
    "### Figure et Subplots\n",
    "\n",
    "nous commençons par créer une figure et un axe. Une figure et des axes peuvent être créés comme suit :\n",
    "\n",
    "`fig = plt.figure()`\n",
    "\n",
    "`hache = plt.axes()`\n",
    "\n",
    "Dans Matplotlib, la figure (une instance de la classe plt.Figure) est un conteneur unique qui contient tous les objets représentant les axes, les graphiques, le texte et les étiquettes. Les axes (une instance de la classe plt.Axes) est une boîte englobante avec des graduations et des étiquettes. Il contiendra les éléments de tracé qui composent la visualisation. J'ai utilisé le nom de variable fig pour faire référence à une instance de figure et ax pour faire référence à une instance d'axes ou à un groupe d'instances d'axes."
   ]
  },
  {
   "cell_type": "code",
   "execution_count": null,
   "metadata": {},
   "outputs": [],
   "source": [
    "import matplotlib.pyplot as plt\n",
    "\n",
    "fig = plt.figure()\n",
    "\n",
    "ax = plt.axes()"
   ]
  }
 ],
 "metadata": {
  "kernelspec": {
   "display_name": "Python 3",
   "language": "python",
   "name": "python3"
  },
  "language_info": {
   "codemirror_mode": {
    "name": "ipython",
    "version": 3
   },
   "file_extension": ".py",
   "mimetype": "text/x-python",
   "name": "python",
   "nbconvert_exporter": "python",
   "pygments_lexer": "ipython3",
   "version": "3.11.1 (main, Dec  7 2022, 08:49:13) [GCC 12.2.0]"
  },
  "orig_nbformat": 4,
  "vscode": {
   "interpreter": {
    "hash": "ead1b95f633dc9c51826328e1846203f51a198c6fb5f2884a80417ba131d4e82"
   }
  }
 },
 "nbformat": 4,
 "nbformat_minor": 2
}
